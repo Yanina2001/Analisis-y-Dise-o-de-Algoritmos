{
 "cells": [
  {
   "cell_type": "code",
   "execution_count": null,
   "id": "37536957",
   "metadata": {},
   "outputs": [],
   "source": [
    "# Instituto Politécnico Nacional\n",
    "# Escuela Superior de Cómputo\n",
    "# Práctica5\n",
    "# De Luna Ocampo Yanina"
   ]
  },
  {
   "cell_type": "code",
   "execution_count": 1,
   "id": "0aecfc94",
   "metadata": {},
   "outputs": [
    {
     "name": "stdout",
     "output_type": "stream",
     "text": [
      "Ingrese la cantidad de dinero: 1378\n"
     ]
    }
   ],
   "source": [
    "dinero = int(input(\"Ingrese la cantidad de dinero: \"))"
   ]
  },
  {
   "cell_type": "code",
   "execution_count": 2,
   "id": "8c2dac79",
   "metadata": {},
   "outputs": [],
   "source": [
    "sobra = dinero // 500\n",
    "dinero = dinero % 500"
   ]
  },
  {
   "cell_type": "code",
   "execution_count": 3,
   "id": "cc97d2a1",
   "metadata": {},
   "outputs": [],
   "source": [
    "cantidad = [500, 200, 100, 50, 20, 10, 5, 2, 1]"
   ]
  },
  {
   "cell_type": "code",
   "execution_count": 4,
   "id": "3cd38620",
   "metadata": {},
   "outputs": [
    {
     "name": "stdout",
     "output_type": "stream",
     "text": [
      "Existen 1 billete de 200 pesos\n",
      "Existen 1 billete de 100 pesos\n",
      "Existen 1 billete de 50 pesos\n",
      "Existen 1 billete de 20 pesos\n",
      "Existen 1 moneda de 5 pesos\n",
      "Existen 1 moneda de 2 pesos\n",
      "Existen 1 moneda de 1 pesos\n"
     ]
    }
   ],
   "source": [
    "for i in cantidad:\n",
    "    if dinero >= i:\n",
    "        sobra = dinero // i\n",
    "        print(\"Existen \" + str(sobra) + \n",
    "              (' billete' if dinero >= 10 else ' moneda') + ('s' if sobra > 1 else '') +\n",
    "              \" de \" + str(i) + \" pesos\")\n",
    "        dinero = dinero % i"
   ]
  }
 ],
 "metadata": {
  "kernelspec": {
   "display_name": "Python 3",
   "language": "python",
   "name": "python3"
  },
  "language_info": {
   "codemirror_mode": {
    "name": "ipython",
    "version": 3
   },
   "file_extension": ".py",
   "mimetype": "text/x-python",
   "name": "python",
   "nbconvert_exporter": "python",
   "pygments_lexer": "ipython3",
   "version": "3.8.8"
  }
 },
 "nbformat": 4,
 "nbformat_minor": 5
}
